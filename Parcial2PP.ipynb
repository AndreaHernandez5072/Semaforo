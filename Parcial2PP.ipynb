{
  "nbformat": 4,
  "nbformat_minor": 0,
  "metadata": {
    "colab": {
      "provenance": [],
      "authorship_tag": "ABX9TyMSHRZ8N8x4/7Srt5iX/qtQ",
      "include_colab_link": true
    },
    "kernelspec": {
      "name": "python3",
      "display_name": "Python 3"
    },
    "language_info": {
      "name": "python"
    }
  },
  "cells": [
    {
      "cell_type": "markdown",
      "metadata": {
        "id": "view-in-github",
        "colab_type": "text"
      },
      "source": [
        "<a href=\"https://colab.research.google.com/github/AndreaHernandez5072/Semaforo/blob/main/Parcial2PP.ipynb\" target=\"_parent\"><img src=\"https://colab.research.google.com/assets/colab-badge.svg\" alt=\"Open In Colab\"/></a>"
      ]
    },
    {
      "cell_type": "markdown",
      "source": [
        "# **Semáforo**\n",
        "\n",
        "\n",
        "---\n",
        "\n",
        "\n",
        "Este programa será gráfico demuestre el paso de los vehículos que transita en cualquiera de los dos carriles. Asimismo, es parametizable al inicio del programa debido a que el usuario ingresar la siguiente información:\n",
        "\n",
        "*   Elección del tiempo que circulara cada vehiculo, opciones son: segundo y minutos\n",
        "*   Tiempo que tardara en transitar los carros en la cola 1 y aparte la cola 2. Por ejemplo, la cola 1 el tiempo que circule un carro hasta llegar a la salida es 15 segundos. Ahora, en la otra cola, los carros pueden circular en 1 minuto\n",
        "*   Cantidad de carros que están en cada cola. Por ejemplo, cantidad de carros estarán en la cola es 7 y la cantidad carros en la cola 2 es 9.\n",
        "\n",
        "\n",
        "Métodología para proporcionar la vía puede ser la siguiente:\n",
        "\n",
        "\n",
        "*   **Uno por uno**: Permita un carro pase y salga; luego, la siguiente cola, permitira su ingreso. El cambio de semaforo sucede cuando el\n",
        "*   **Cola completa**: El semaforo da luz verde, debe vaciar la cola. A partir de ahí, cambia el semaforo, el carro puede pasar a la siguiente fila. Por ejemplo, tiempo total para dejar que pase todos los vehículos\n",
        "\n",
        "\n",
        "El gráfico a diseñar, no debe ser complicado, la finalidad es que demuestre el tiempo.\n",
        "\n",
        "\n",
        "---\n",
        "\n"
      ],
      "metadata": {
        "id": "j53IWZ4ruyqn"
      }
    },
    {
      "cell_type": "markdown",
      "source": [
        "Librerías"
      ],
      "metadata": {
        "id": "qe-pw-NInM1Y"
      }
    },
    {
      "cell_type": "code",
      "execution_count": 3,
      "metadata": {
        "id": "c3ETCb_0uxS7"
      },
      "outputs": [],
      "source": [
        "import time\n",
        "import random\n",
        "import threading #permite usar la clase semaphore y las funciones signal y wait"
      ]
    },
    {
      "cell_type": "markdown",
      "source": [
        "Construyendo el objeto del semaforo"
      ],
      "metadata": {
        "id": "igBfE-6KnUU2"
      }
    },
    {
      "cell_type": "code",
      "source": [
        "sem1 = threading.Semaphore(0) #Semaforo 1\n",
        "sem2 = threading.Semaphore(0) #Semaforo 2\n"
      ],
      "metadata": {
        "id": "eLszubYCnYNN"
      },
      "execution_count": 4,
      "outputs": []
    },
    {
      "cell_type": "markdown",
      "source": [
        "Creación de **funciones**"
      ],
      "metadata": {
        "id": "eMIF_G5fwB7b"
      }
    },
    {
      "cell_type": "code",
      "source": [
        "# Función para el paso en carril 1 que corresponde a la cola 1\n"
      ],
      "metadata": {
        "id": "alf7FY4puUrk"
      },
      "execution_count": null,
      "outputs": []
    },
    {
      "cell_type": "markdown",
      "source": [
        "Función principal"
      ],
      "metadata": {
        "id": "zr1rGIKcwEdt"
      }
    },
    {
      "cell_type": "code",
      "source": [
        "# función principal\n",
        "def main():\n",
        "  print(\"Bienvenido \\n\")\n",
        "  print(\"Ingresar los datos de la cola 1 \\n\")\n",
        "  print(\"El tiempo pasa \")"
      ],
      "metadata": {
        "id": "4_HSF0wiwGOu"
      },
      "execution_count": 7,
      "outputs": []
    },
    {
      "cell_type": "markdown",
      "source": [
        "Ejecutando la función main"
      ],
      "metadata": {
        "id": "L2imu-5Y56Zf"
      }
    },
    {
      "cell_type": "code",
      "source": [
        "main()"
      ],
      "metadata": {
        "id": "L9GFf_pw55Sy"
      },
      "execution_count": null,
      "outputs": []
    }
  ]
}