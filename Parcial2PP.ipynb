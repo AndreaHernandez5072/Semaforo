{
  "nbformat": 4,
  "nbformat_minor": 0,
  "metadata": {
    "colab": {
      "provenance": [],
      "authorship_tag": "ABX9TyMbgLwT+nLBqr64Cg4rciTL",
      "include_colab_link": true
    },
    "kernelspec": {
      "name": "python3",
      "display_name": "Python 3"
    },
    "language_info": {
      "name": "python"
    }
  },
  "cells": [
    {
      "cell_type": "markdown",
      "metadata": {
        "id": "view-in-github",
        "colab_type": "text"
      },
      "source": [
        "<a href=\"https://colab.research.google.com/github/AndreaHernandez5072/Semaforo/blob/main/Parcial2PP.ipynb\" target=\"_parent\"><img src=\"https://colab.research.google.com/assets/colab-badge.svg\" alt=\"Open In Colab\"/></a>"
      ]
    },
    {
      "cell_type": "markdown",
      "source": [
        "# **Semáforo**\n",
        "\n",
        "\n",
        "---\n",
        "\n",
        "\n",
        "Este programa será gráfico demuestre el paso de los vehículos que transita en cualquiera de los dos carriles. Asimismo, es parametizable al inicio del programa debido a que el usuario ingresar la siguiente información:\n",
        "\n",
        "*   Elección del tiempo que circulara cada vehiculo, opciones son: segundo y minutos\n",
        "*   Tiempo que tardara en transitar los carros en la cola 1 y aparte la cola 2. Por ejemplo, la cola 1 el tiempo que circule un carro hasta llegar a la salida es 15 segundos. Ahora, en la otra cola, los carros pueden circular en 1 minuto\n",
        "*   Cantidad de carros que están en cada cola. Por ejemplo, cantidad de carros estarán en la cola es 7 y la cantidad carros en la cola 2 es 9.\n",
        "\n",
        "\n",
        "Métodología para proporcionar la vía puede ser la siguiente:\n",
        "\n",
        "\n",
        "*   **Uno por uno**: Permita un carro pase y salga; luego, la siguiente cola, permitira su ingreso. El cambio de semaforo sucede cuando el\n",
        "*   **Cola completa**: El semaforo da luz verde, debe vaciar la cola. A partir de ahí, cambia el semaforo, el carro puede pasar a la siguiente fila. Por ejemplo, tiempo total para dejar que pase todos los vehículos\n",
        "\n",
        "\n",
        "El gráfico a diseñar, no debe ser complicado, la finalidad es que demuestre el tiempo.\n",
        "\n",
        "\n",
        "---\n",
        "\n"
      ],
      "metadata": {
        "id": "j53IWZ4ruyqn"
      }
    },
    {
      "cell_type": "markdown",
      "source": [
        "**Librerías**\n",
        "\n",
        "\n",
        "\n",
        "*   Threading: permite controlar el acceso a recursos compartidos entre multiples hilos.\n",
        "*   Elemento de la lista\n",
        "*   Elemento de la lista\n",
        "\n"
      ],
      "metadata": {
        "id": "qe-pw-NInM1Y"
      }
    },
    {
      "cell_type": "code",
      "execution_count": 17,
      "metadata": {
        "id": "c3ETCb_0uxS7"
      },
      "outputs": [],
      "source": [
        "import time\n",
        "import threading #permite usar hilos"
      ]
    },
    {
      "cell_type": "markdown",
      "source": [
        "Procedimiento **consumidor**\n",
        "Aquí simula la operación wait de un semáforo donde disminuye una unidad de carro. En caso de llegar a un valor igual a cero en semáforo, suspende su ejecución.\n"
      ],
      "metadata": {
        "id": "eMIF_G5fwB7b"
      }
    },
    {
      "cell_type": "code",
      "source": [
        "def consumidor_carril_1():\n",
        "  carros_pendientes_pasar_carril_1.acquire()\n",
        "\n",
        "def consumidor_carril_2():\n",
        "  carros_pendientes_pasar_carril_2.acquire()"
      ],
      "metadata": {
        "id": "alf7FY4puUrk"
      },
      "execution_count": 18,
      "outputs": []
    },
    {
      "cell_type": "markdown",
      "source": [
        "Procedimiento **signal**:\n",
        "incrementa el valor del semáforo. En caso que el proceso este suspendido, los activa y suspende la función wait."
      ],
      "metadata": {
        "id": "FwiIMMciejPx"
      }
    },
    {
      "cell_type": "code",
      "source": [
        "def productor_carril_1():\n",
        "  carros_salieron_carril_1.release()\n",
        "\n",
        "def productor_carril_2():\n",
        "  carros_salieron_carril_2.release()"
      ],
      "metadata": {
        "id": "OKS2qJ8Gezqp"
      },
      "execution_count": 19,
      "outputs": []
    },
    {
      "cell_type": "markdown",
      "source": [
        "Procedimiento para mostrar gráficamente el procedimiento"
      ],
      "metadata": {
        "id": "J9nxFDaGjGd3"
      }
    },
    {
      "cell_type": "code",
      "source": [
        "#def grafico():"
      ],
      "metadata": {
        "id": "6pysSuROjF4Z"
      },
      "execution_count": 20,
      "outputs": []
    },
    {
      "cell_type": "markdown",
      "source": [
        "Función para solicitar datos al usuario\n"
      ],
      "metadata": {
        "id": "YJy4_X7xnViF"
      }
    },
    {
      "cell_type": "code",
      "source": [
        "def solicitud_datos():\n",
        "  #solicitando el tiempo para pasar por el primer carril por vehiculo\n",
        "  tiempo_paso_carril_1 = solicitar_tiempo()\n",
        "  #solicitando el tiempo para pasar por el segundo carril por vehiculo\n",
        "  tiempo_paso_carril_2 = solicitar_tiempo()\n",
        "  #Definiendo la cantidad de carros que pasaran el primer carril\n",
        "  cantidad_carros_carril_1 = int(input(\"Ingrese la cantidad de carros que transitaran en el primer carril: \"))\n",
        "  #Definiendo la cantidad de carros que pasaran el segundo carril\n",
        "  cantidad_carros_carril_2 = int(input(\"Ingrese la cantidad de carros que transitaran por el segundo carrril: \"))\n",
        "\n",
        "  return tiempo_paso_carril_1,tiempo_paso_carril_2,cantidad_carros_carril_1,cantidad_carros_carril_2"
      ],
      "metadata": {
        "id": "e5eRs0Linad4"
      },
      "execution_count": 21,
      "outputs": []
    },
    {
      "cell_type": "markdown",
      "source": [
        "Funcion para solicitar tiempo"
      ],
      "metadata": {
        "id": "Z8dKirqYpBvU"
      }
    },
    {
      "cell_type": "code",
      "source": [
        "def solicitar_tiempo():\n",
        "  t=int(input(\"Ingrese la magnitud de tiempo que pasará vehiculos en primer carril: \"))\n",
        "  t=t*60 if input(\"¿Es en minutos? (s/n) :\").lower == \"s\" else t\n",
        "  return t"
      ],
      "metadata": {
        "id": "NrJt0Wy0pEIG"
      },
      "execution_count": null,
      "outputs": []
    },
    {
      "cell_type": "markdown",
      "source": [
        "Ejecutando la función main"
      ],
      "metadata": {
        "id": "L2imu-5Y56Zf"
      }
    },
    {
      "cell_type": "code",
      "source": [
        "print(\"Bienvenido \\n\")\n",
        "t1,t2,cc1,cc2=solicitud_datos()\n",
        "#Construyendo el semaforo\n",
        "carros_pendientes_pasar_carril_1 = threading.Semaphore(cc1)\n",
        "carros_pendientes_pasar_carril_2 = threading.Semaphore(cc2)\n",
        "carros_salieron_carril_1 = threading.Semaphore(0)\n",
        "carros_salieron_carril_2 = threading.Semaphore(0)\n",
        "#Ejecutando\n",
        "for _ in range (cc1):\n",
        "  print(\"Carros que pasaron: \", carros_salieron_carril_1._value)\n",
        "  print(\"Carros no han pasado: \", carros_pendientes_pasar_carril_1._value)\n",
        "  hilo1 = threading.Thread(target=consumidor_carril_1)\n",
        "  hilo2 = threading.Thread(target=productor_carril_1)\n",
        "  time.sleep(t1)\n",
        "  hilo1.start()\n",
        "  hilo2.start()\n",
        "\n"
      ],
      "metadata": {
        "colab": {
          "base_uri": "https://localhost:8080/"
        },
        "id": "L9GFf_pw55Sy",
        "outputId": "af497478-4e8f-4166-f35a-18cbb3076917"
      },
      "execution_count": 22,
      "outputs": [
        {
          "output_type": "stream",
          "name": "stdout",
          "text": [
            "Bienvenido \n",
            "\n",
            "Ingrese la magnitud de tiempo que pasará vehiculos en primer carril: 2\n",
            "¿Es en minutos? (s/n): n\n",
            "Ingrese la magnitud de tiempo que pasará vehiculos en segundo carril: 1\n",
            "¿Es en minutos? (s/n): s\n",
            "Ingrese la cantidad de carros que transitaran en el primer carril: 3\n",
            "Ingrese la cantidad de carros que transitaran por el segundo carrril: 3\n",
            "Carros que pasaron:  0\n",
            "Carros no han pasado:  3\n",
            "Carros que pasaron:  1\n",
            "Carros no han pasado:  2\n",
            "Carros que pasaron:  2\n",
            "Carros no han pasado:  1\n"
          ]
        }
      ]
    },
    {
      "cell_type": "markdown",
      "source": [
        "Procedimiento para sincronizamos, es decir, debemos esperar que termine uno para poder seguir funcionando"
      ],
      "metadata": {
        "id": "nhae8cgBh4zb"
      }
    },
    {
      "cell_type": "code",
      "source": [],
      "metadata": {
        "id": "c2glxI40i7di"
      },
      "execution_count": 22,
      "outputs": []
    }
  ]
}